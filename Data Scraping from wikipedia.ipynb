{
 "cells": [
  {
   "cell_type": "code",
   "execution_count": null,
   "id": "27d66da9",
   "metadata": {},
   "outputs": [],
   "source": [
    "!pip install bs4\n",
    "!pip install requests"
   ]
  },
  {
   "cell_type": "code",
   "execution_count": null,
   "id": "40cb5036",
   "metadata": {},
   "outputs": [],
   "source": [
    "import requests\n",
    "from bs4 import BeautifulSoup"
   ]
  },
  {
   "cell_type": "code",
   "execution_count": null,
   "id": "c3000506",
   "metadata": {},
   "outputs": [],
   "source": [
    "# scraping a wikipedia article\n",
    "url_link = \"https://en.wikipedia.org/wiki/Main_Page\"\n",
    "request = requests.get(url_link)"
   ]
  },
  {
   "cell_type": "code",
   "execution_count": null,
   "id": "31ca0c81",
   "metadata": {},
   "outputs": [],
   "source": [
    "Soup = BeautifulSoup(request.text, 'lxml')"
   ]
  },
  {
   "cell_type": "code",
   "execution_count": 23,
   "id": "68760ca0",
   "metadata": {},
   "outputs": [
    {
     "name": "stdout",
     "output_type": "stream",
     "text": [
      "h1 -> Main Page\n",
      "h1 -> Welcome to Wikipedia\n",
      "h2 -> From today's featured article\n",
      "h2 -> Did you know ...\n",
      "h2 -> In the news\n",
      "h2 -> On this day\n",
      "h2 -> Today's featured picture\n",
      "h2 -> Other areas of Wikipedia\n",
      "h2 -> Wikipedia's sister projects\n",
      "h2 -> Wikipedia languages\n"
     ]
    }
   ],
   "source": [
    "# creating a list of all common heading tags\n",
    "heading_tags = [\"h1\", \"h2\", \"h3\"]\n",
    "for tags in Soup.find_all(heading_tags):\n",
    "    print(tags.name + ' -> ' + tags.text.strip())"
   ]
  },
  {
   "cell_type": "code",
   "execution_count": 24,
   "id": "73eed77d",
   "metadata": {},
   "outputs": [
    {
     "name": "stdout",
     "output_type": "stream",
     "text": [
      "12\n",
      "h1 -> Main Page\n",
      "h1 -> Welcome to Wikipedia\n",
      "h2 -> From today's featured article\n",
      "h2 -> Did you know ...\n",
      "h2 -> In the news\n",
      "h2 -> On this day\n",
      "h2 -> Today's featured picture\n",
      "h2 -> Other areas of Wikipedia\n",
      "h2 -> Wikipedia's sister projects\n",
      "h2 -> Wikipedia languages\n"
     ]
    }
   ],
   "source": [
    "print(len(\"heading_tags\"))# creating a list of all common heading tags\n",
    "heading_tags = [\"h1\", \"h2\", \"h3\"]\n",
    "for tags in Soup.find_all(heading_tags):\n",
    "    print(tags.name + ' -> ' + tags.text.strip())"
   ]
  },
  {
   "cell_type": "code",
   "execution_count": 26,
   "id": "cf9c7b8d",
   "metadata": {},
   "outputs": [
    {
     "data": {
      "text/html": [
       "<div>\n",
       "<style scoped>\n",
       "    .dataframe tbody tr th:only-of-type {\n",
       "        vertical-align: middle;\n",
       "    }\n",
       "\n",
       "    .dataframe tbody tr th {\n",
       "        vertical-align: top;\n",
       "    }\n",
       "\n",
       "    .dataframe thead th {\n",
       "        text-align: right;\n",
       "    }\n",
       "</style>\n",
       "<table border=\"1\" class=\"dataframe\">\n",
       "  <thead>\n",
       "    <tr style=\"text-align: right;\">\n",
       "      <th></th>\n",
       "      <th>titles</th>\n",
       "    </tr>\n",
       "  </thead>\n",
       "  <tbody>\n",
       "    <tr>\n",
       "      <th>0</th>\n",
       "      <td>h1</td>\n",
       "    </tr>\n",
       "    <tr>\n",
       "      <th>1</th>\n",
       "      <td>h2</td>\n",
       "    </tr>\n",
       "    <tr>\n",
       "      <th>2</th>\n",
       "      <td>h3</td>\n",
       "    </tr>\n",
       "  </tbody>\n",
       "</table>\n",
       "</div>"
      ],
      "text/plain": [
       "  titles\n",
       "0     h1\n",
       "1     h2\n",
       "2     h3"
      ]
     },
     "execution_count": 26,
     "metadata": {},
     "output_type": "execute_result"
    }
   ],
   "source": [
    "import pandas as pd\n",
    "df=pd.DataFrame({'titles':heading_tags})\n",
    "df"
   ]
  },
  {
   "cell_type": "code",
   "execution_count": null,
   "id": "8fd65865",
   "metadata": {},
   "outputs": [],
   "source": []
  }
 ],
 "metadata": {
  "kernelspec": {
   "display_name": "Python 3 (ipykernel)",
   "language": "python",
   "name": "python3"
  },
  "language_info": {
   "codemirror_mode": {
    "name": "ipython",
    "version": 3
   },
   "file_extension": ".py",
   "mimetype": "text/x-python",
   "name": "python",
   "nbconvert_exporter": "python",
   "pygments_lexer": "ipython3",
   "version": "3.9.13"
  }
 },
 "nbformat": 4,
 "nbformat_minor": 5
}
