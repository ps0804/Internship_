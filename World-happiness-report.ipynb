{
 "cells": [
  {
   "cell_type": "markdown",
   "id": "89cd561d",
   "metadata": {},
   "source": [
    "# World Happiness Report"
   ]
  },
  {
   "cell_type": "markdown",
   "id": "7fa2e557",
   "metadata": {},
   "source": [
    "# Part I. Describe The Data¶"
   ]
  },
  {
   "cell_type": "markdown",
   "id": "29653200",
   "metadata": {},
   "source": [
    "# Context\n",
    "\n",
    "The World Happiness Report is a landmark survey of the state of global happiness. The first report was published in 2012, the second in 2013, the third in 2015, and the fourth in the 2016 Update. The World Happiness 2017, which ranks 155 countries by their happiness levels, was released at the United Nations at an event celebrating International Day of Happiness on March 20th. The report continues to gain global recognition as governments, organizations and civil society increasingly use happiness indicators to inform their policy-making decisions. Leading experts across fields – economics, psychology, survey analysis, national statistics, health, public policy and more – describe how measurements of well-being can be used effectively to assess the progress of nations. The reports review the state of happiness in the world today and show how the new science of happiness explains personal and national variations in happiness."
   ]
  },
  {
   "cell_type": "markdown",
   "id": "17bc243e",
   "metadata": {},
   "source": [
    "# Content\n",
    "\n",
    "The happiness scores and rankings use data from the Gallup World Poll. The scores are based on answers to the main life evaluation question asked in the poll. This question, known as the Cantril ladder, asks respondents to think of a ladder with the best possible life for them being a 10 and the worst possible life being a 0 and to rate their own current lives on that scale. The scores are from nationally representative samples for the years 2013-2016 and use the Gallup weights to make the estimates representative. The columns following the happiness score estimate the extent to which each of six factors – economic production, social support, life expectancy, freedom, absence of corruption, and generosity – contribute to making life evaluations higher in each country than they are in Dystopia, a hypothetical country that has values equal to the world’s lowest national averages for each of the six factors. They have no impact on the total score reported for each country, but they do explain why some countries rank higher than others."
   ]
  },
  {
   "cell_type": "code",
   "execution_count": null,
   "id": "a4abac4f",
   "metadata": {},
   "outputs": [],
   "source": [
    "!pip install bubbly"
   ]
  },
  {
   "cell_type": "code",
   "execution_count": null,
   "id": "06c0d97a",
   "metadata": {},
   "outputs": [],
   "source": [
    "#We will load necessary libraries\n",
    "import numpy as np\n",
    "import pandas as pd\n",
    "import matplotlib.pyplot as plt\n",
    "%matplotlib inline\n",
    "import random\n",
    "import seaborn as sns\n",
    "\n"
   ]
  },
  {
   "cell_type": "code",
   "execution_count": null,
   "id": "d71ab455",
   "metadata": {},
   "outputs": [],
   "source": [
    "# for interactive visualizations\n",
    "import plotly.offline as py\n",
    "from plotly.offline import init_notebook_mode, iplot\n",
    "import plotly.graph_objs as go\n",
    "init_notebook_mode(connected = True)\n",
    "from bubbly.bubbly import bubbleplot\n"
   ]
  },
  {
   "cell_type": "code",
   "execution_count": null,
   "id": "6fe977ec",
   "metadata": {},
   "outputs": [],
   "source": [
    "from pandas.plotting import scatter_matrix"
   ]
  },
  {
   "cell_type": "code",
   "execution_count": null,
   "id": "79df0158",
   "metadata": {},
   "outputs": [],
   "source": [
    "df=pd.read_csv(\"C:/Users\\pshar\\happiness_score_dataset.csv\")"
   ]
  },
  {
   "cell_type": "code",
   "execution_count": null,
   "id": "bbec8563",
   "metadata": {},
   "outputs": [],
   "source": [
    "df"
   ]
  },
  {
   "cell_type": "code",
   "execution_count": null,
   "id": "8b498479",
   "metadata": {},
   "outputs": [],
   "source": [
    "df.head() #see 5 head values of data"
   ]
  },
  {
   "cell_type": "markdown",
   "id": "68a551f9",
   "metadata": {},
   "source": [
    "We can see above table that top 5 happiest countries acc to ranking, Happiness Score is 7.587 out of 10."
   ]
  },
  {
   "cell_type": "code",
   "execution_count": null,
   "id": "923ddce3",
   "metadata": {},
   "outputs": [],
   "source": [
    "#check last 5 values of the data\n",
    "df.tail()"
   ]
  },
  {
   "cell_type": "markdown",
   "id": "90f1e304",
   "metadata": {},
   "source": [
    "In above table is showing last 5 countries acc to Ranking, lowest Happiness Score is 2.839 for sub-saharan africa from 157 countries."
   ]
  },
  {
   "cell_type": "code",
   "execution_count": null,
   "id": "34dbaf97",
   "metadata": {},
   "outputs": [],
   "source": [
    "df.info()"
   ]
  },
  {
   "cell_type": "markdown",
   "id": "19bb766f",
   "metadata": {},
   "source": [
    "Most of our values are in float type, only Country and region are object and Ranking is integer."
   ]
  },
  {
   "cell_type": "markdown",
   "id": "e61ea7dc",
   "metadata": {},
   "source": [
    "# Correlation Between the Data"
   ]
  },
  {
   "cell_type": "code",
   "execution_count": null,
   "id": "99b7411d",
   "metadata": {},
   "outputs": [],
   "source": [
    "plt.rcParams['figure.figsize'] = (20, 15)\n",
    "sns.heatmap(df.corr(), cmap = 'copper', annot = True)\n",
    "\n",
    "plt.show()"
   ]
  },
  {
   "cell_type": "markdown",
   "id": "1b741735",
   "metadata": {},
   "source": [
    "In the above Heat Map we can see that Happiness Score is very highly correlated with Economy, Health, and Family Satisfaction and somewhat related with Freedom also but has very low relation with Trust in Government in average case."
   ]
  },
  {
   "cell_type": "markdown",
   "id": "34bd2e1f",
   "metadata": {},
   "source": [
    "# Correlations for Western Europe"
   ]
  },
  {
   "cell_type": "code",
   "execution_count": null,
   "id": "70236d1a",
   "metadata": {},
   "outputs": [],
   "source": [
    "plt.rcParams['figure.figsize'] = (20, 15)\n",
    "d = df.loc[lambda data_2016: df['Region'] == 'Western Europe']\n",
    "sns.heatmap(d.corr(), cmap = 'Wistia', annot = True)\n",
    "\n",
    "plt.show()"
   ]
  },
  {
   "cell_type": "markdown",
   "id": "a1509143",
   "metadata": {},
   "source": [
    "The Heat Map particularly for Europe has one more thing to add apart from Family Satisfaction, Freedom, Economy, Generosity, It is also highly correlated with Trust in Government.\n",
    "\n",
    "The European Region is the Happiest Region so far."
   ]
  },
  {
   "cell_type": "markdown",
   "id": "96dbe784",
   "metadata": {},
   "source": [
    "# Correlations for Eastern Asia"
   ]
  },
  {
   "cell_type": "code",
   "execution_count": null,
   "id": "4d7fdb92",
   "metadata": {},
   "outputs": [],
   "source": [
    "plt.rcParams['figure.figsize'] = (20, 15)\n",
    "d = df.loc[lambda data_2016: df['Region'] == 'Eastern Asia']\n",
    "sns.heatmap(d.corr(), cmap = 'Greys', annot = True)\n",
    "\n",
    "plt.show()"
   ]
  },
  {
   "cell_type": "markdown",
   "id": "a3499cdf",
   "metadata": {},
   "source": [
    "Here, The situation gets worsened as the Correlation is negative for many important factors such as Economy, Health, Trust in Government which makes the situation very critical. It has Positive correlations only with Freedom, Generosity and Famlily Satisfaction"
   ]
  },
  {
   "cell_type": "markdown",
   "id": "da0b8958",
   "metadata": {},
   "source": [
    "# North America"
   ]
  },
  {
   "cell_type": "code",
   "execution_count": null,
   "id": "cfe976c0",
   "metadata": {},
   "outputs": [],
   "source": [
    "plt.rcParams['figure.figsize'] = (20, 15)\n",
    "d = df.loc[lambda data_2016: df['Region'] == 'North America']\n",
    "sns.heatmap(d.corr(), cmap = 'pink', annot = True)\n",
    "\n",
    "plt.show()"
   ]
  },
  {
   "cell_type": "markdown",
   "id": "3eb0e5d5",
   "metadata": {},
   "source": [
    "Everything is highly correlated to the Happiness in America. Amongst so many countries of the world. Being a very large country also America is still able to keep their people happy. America stands at position number 10 amongst the Happiness Rankings for the World."
   ]
  },
  {
   "cell_type": "markdown",
   "id": "38ecc343",
   "metadata": {},
   "source": [
    "# Middle East and Northern Africa"
   ]
  },
  {
   "cell_type": "code",
   "execution_count": null,
   "id": "438fe2c9",
   "metadata": {},
   "outputs": [],
   "source": [
    "plt.rcParams['figure.figsize'] = (20, 15)\n",
    "d = df.loc[lambda data_2016: df['Region'] == 'Middle East and Northern Africa']\n",
    "\n",
    "sns.heatmap(d.corr(), cmap = 'rainbow', annot = True)\n",
    "\n",
    "plt.show()"
   ]
  },
  {
   "cell_type": "markdown",
   "id": "c59d2c55",
   "metadata": {},
   "source": [
    "The correlations are quite goood with almost all the important factors being highly correlated with Happiness. Family Satisfaction is the most important factor as it is the most important factor for happiness n this region."
   ]
  },
  {
   "cell_type": "markdown",
   "id": "fbe28a96",
   "metadata": {},
   "source": [
    "# Sub-Saharan Africa"
   ]
  },
  {
   "cell_type": "code",
   "execution_count": null,
   "id": "88c10ee4",
   "metadata": {},
   "outputs": [],
   "source": [
    "plt.rcParams['figure.figsize'] = (20, 15)\n",
    "d = df.loc[lambda data_2016: df['Region'] == 'Sub-Saharan Africa']\n",
    "sns.heatmap(d.corr(), cmap = 'Blues', annot = True)\n",
    "\n",
    "plt.show()"
   ]
  },
  {
   "cell_type": "markdown",
   "id": "093dcc7f",
   "metadata": {},
   "source": [
    "The Situations are very bad for Sub-Saharan Region as it is the unhappiest region in the world. The correlations with Happiness Score are very low for features such as Generosity, Family Satisfaction, Freedom etc. Almost all of the features are having less than 0.5 correlation which is very bad."
   ]
  },
  {
   "cell_type": "code",
   "execution_count": null,
   "id": "ed0cee56",
   "metadata": {},
   "outputs": [],
   "source": [
    "import warnings\n",
    "warnings.filterwarnings('ignore')\n",
    "\n",
    "figure = bubbleplot(dataset = df, x_column = 'Happiness Score', y_column = 'Generosity', \n",
    "    bubble_column = 'Country', size_column = 'Economy (GDP per Capita)', color_column = 'Region', \n",
    "    x_title = \"Happiness Score\", y_title = \"Generosity\", title = 'Happiness vs Generosity vs Economy',\n",
    "    x_logscale = False, scale_bubble = 1, height = 650)\n",
    "\n",
    "py.iplot(figure, config={'scrollzoom': True})\n"
   ]
  },
  {
   "cell_type": "markdown",
   "id": "6435bcbe",
   "metadata": {},
   "source": [
    "Bubble plot to depict the relation between the Happiness Scores vs Family Satisfaction where size of the bubbles is represented by the Economy and the color of the bubbles is represented by the Different Regions of the World.\n",
    "\n",
    "It is Quite Visible that as the Family Satisfaction ratings increases the Happiness Score increases. So, We can say that they have a direct relationship between them.\n",
    "\n",
    "Also, European Countries and Austrelia are the Happiest Regions. After America.\n",
    "\n",
    "There is not even a single country in American Region with low Happiness Index.\n",
    "\n",
    "Asian and African countries suffer with some serious issues, that is why none of the Asian orr African Country stands at a good position in terms of Happiness Index.\n",
    "\n",
    "Some Countries in Middle East are Happy while some are Unhappy."
   ]
  },
  {
   "cell_type": "code",
   "execution_count": null,
   "id": "7241af9a",
   "metadata": {},
   "outputs": [],
   "source": [
    "import plotly.figure_factory as ff\n",
    "\n",
    "data = (\n",
    "  {\"label\": \"Happiness\", \"sublabel\":\"score\",\n",
    "   \"range\": [5, 6, 8], \"performance\": [5.5, 6.5], \"point\": [7]},\n",
    "  {\"label\": \"Economy\", \"sublabel\": \"score\", \"range\": [0, 1, 2],\n",
    "   \"performance\": [1, 1.5], \"sublabel\":\"score\",\"point\": [1.5]},\n",
    "  {\"label\": \"Family\",\"sublabel\":\"score\", \"range\": [0, 1, 2],\n",
    "   \"performance\": [1, 1.5],\"sublabel\":\"score\", \"point\": [1.3]},\n",
    "  {\"label\": \"Freedom\",\"sublabel\":\"score\", \"range\": [0, 0.3, 0.6],\n",
    "   \"performance\": [0.3, 0.4],\"sublabel\":\"score\", \"point\": [0.5]},\n",
    "  {\"label\": \"Trust\", \"sublabel\":\"score\",\"range\": [0, 0.2, 0.5],\n",
    "   \"performance\": [0.3, 0.4], \"point\": [0.4]}\n",
    ")\n",
    "\n",
    "fig = ff.create_bullet(\n",
    "    data, titles='label', subtitles='sublabel', markers='point',\n",
    "    measures='performance', ranges='range', orientation='v',\n",
    ")\n",
    "py.iplot(fig, filename='bullet chart from dict')"
   ]
  },
  {
   "cell_type": "markdown",
   "id": "2ec15e6d",
   "metadata": {},
   "source": [
    "Bullet Chart to Represent the Range for some of the most Important Attributes given in the data. We have taken Happiness, Economy, Freedom, and Family. for analysis of their range.\n",
    "\n",
    "If the values for the given attributes lie in the Dark Blue Region then it is in the critical region.\n",
    "\n",
    "If the values for the given attributes lie in the light blue region then is is in good condition.\n",
    "\n",
    "If the values for the given attributes lie above or near the diamond then is in the best state or condition.\n",
    "\n",
    "White Regions are depicting the Maxima that could be achieved."
   ]
  },
  {
   "cell_type": "markdown",
   "id": "3791ae3e",
   "metadata": {},
   "source": [
    "# Top 10 Most Generous Countries"
   ]
  },
  {
   "cell_type": "code",
   "execution_count": null,
   "id": "abfcc66f",
   "metadata": {},
   "outputs": [],
   "source": [
    "df[['Country','Generosity']].sort_values.head(10)"
   ]
  },
  {
   "cell_type": "code",
   "execution_count": null,
   "id": "143bee68",
   "metadata": {},
   "outputs": [],
   "source": [
    "trace1 = [go.Choropleth(\n",
    "               colorscale = 'Cividis',\n",
    "               locationmode = 'Country names',\n",
    "               locations = df['Country'],\n",
    "               text = df['Country'], \n",
    "               z = df['Trust..Government.Corruption.'],\n",
    "               )]\n",
    "\n",
    "layout = dict(title = 'Trust in Governance',\n",
    "                  geo = dict(\n",
    "                      showframe = True,\n",
    "                      showocean = True,\n",
    "                      showlakes = True,\n",
    "                      showcoastlines = True,\n",
    "                      projection = dict(\n",
    "                          type = 'hammer'\n",
    "        )))\n",
    "\n",
    "\n",
    "projections = [ \"equirectangular\", \"mercator\", \"orthographic\", \"natural earth\",\"kavrayskiy7\", \n",
    "               \"miller\", \"robinson\", \"eckert4\", \"azimuthal equal area\",\"azimuthal equidistant\", \n",
    "               \"conic equal area\", \"conic conformal\", \"conic equidistant\", \"gnomonic\", \"stereographic\", \n",
    "               \"mollweide\", \"hammer\", \"transverse mercator\", \"albers usa\", \"winkel tripel\" ]\n",
    "\n",
    "buttons = [dict(args = ['geo.projection.type', y],\n",
    "           label = y, method = 'relayout') for y in projections]\n",
    "annot = list([ dict( x=0.1, y=0.8, text='Projection', yanchor='bottom', \n",
    "                    xref='paper', xanchor='right', showarrow=False )])\n",
    "\n",
    "\n",
    "# Update Layout Object\n",
    "\n",
    "layout[ 'updatemenus' ] = list([ dict( x=0.1, y=0.8, buttons=buttons, yanchor='top' )])\n",
    "layout[ 'annotations' ] = annot\n",
    "\n",
    "\n",
    "fig = go.Figure(data = trace1, layout = layout)\n",
    "py.iplot(fig)"
   ]
  },
  {
   "cell_type": "markdown",
   "id": "da371a01",
   "metadata": {},
   "source": [
    "# Top 10 Countries with Trust in Government"
   ]
  },
  {
   "cell_type": "code",
   "execution_count": null,
   "id": "eaaa7e32",
   "metadata": {},
   "outputs": [],
   "source": [
    "df[['Country', 'Generosity']].sort_values(by = 'Generosity',\n",
    "                                                ascending = False).head(10)"
   ]
  },
  {
   "cell_type": "code",
   "execution_count": null,
   "id": "83cbb4a2",
   "metadata": {},
   "outputs": [],
   "source": [
    "trace1 = [go.Choropleth(\n",
    "               colorscale = 'Portland',\n",
    "               locationmode = 'country names',\n",
    "               locations = df['Country'],\n",
    "               text =df['Country'], \n",
    "               z = df['Family'],\n",
    "               )]\n",
    "\n",
    "layout = dict(title = 'Family Satisfaction Index',\n",
    "                  geo = dict(\n",
    "                      showframe = True,\n",
    "                      showocean = True,\n",
    "                      showlakes = True,\n",
    "                      showcoastlines = True,\n",
    "                      projection = dict(\n",
    "                          type = 'hammer'\n",
    "        )))\n",
    "\n",
    "\n",
    "projections = [ \"equirectangular\", \"mercator\", \"orthographic\", \"natural earth\",\"kavrayskiy7\", \n",
    "               \"miller\", \"robinson\", \"eckert4\", \"azimuthal equal area\",\"azimuthal equidistant\", \n",
    "               \"conic equal area\", \"conic conformal\", \"conic equidistant\", \"gnomonic\", \"stereographic\", \n",
    "               \"mollweide\", \"hammer\", \"transverse mercator\", \"albers usa\", \"winkel tripel\" ]\n",
    "\n",
    "buttons = [dict(args = ['geo.projection.type', y],\n",
    "           label = y, method = 'relayout') for y in projections]\n",
    "annot = list([ dict( x=0.1, y=0.8, text='Projection', yanchor='bottom', \n",
    "                    xref='paper', xanchor='right', showarrow=False )])\n",
    "\n",
    "\n",
    "# Update Layout Object\n",
    "\n",
    "layout[ 'updatemenus' ] = list([ dict( x=0.1, y=0.8, buttons=buttons, yanchor='top' )])\n",
    "layout[ 'annotations' ] = annot\n",
    "\n",
    "fig = go.Figure(data = trace1, layout = layout)\n",
    "py.iplot(fig)\n"
   ]
  },
  {
   "cell_type": "markdown",
   "id": "9c5cae3a",
   "metadata": {},
   "source": [
    "India and China have very low Family Satisfaction comparatively.\n",
    "\n",
    "All over the world Family Satisfaction rate is really good.\n",
    "\n",
    "Central African Republic has the lowest Family Satisfaction score in the world."
   ]
  },
  {
   "cell_type": "markdown",
   "id": "c0e4112d",
   "metadata": {},
   "source": [
    "# Top 10 Countries in Family Satisfaction"
   ]
  },
  {
   "cell_type": "code",
   "execution_count": null,
   "id": "60b56872",
   "metadata": {},
   "outputs": [],
   "source": [
    "df[['Country', 'Trust..Government.Corruption.']].sort_values(by = 'Trust..Government.Corruption.',\n",
    "                                                                     ascending = False).head(10)"
   ]
  },
  {
   "cell_type": "code",
   "execution_count": null,
   "id": "6ec00e19",
   "metadata": {},
   "outputs": [],
   "source": [
    "trace1 = [go.Choropleth(\n",
    "               colorscale = 'Viridis',\n",
    "               locationmode = 'country names',\n",
    "               locations = df['Country'],\n",
    "               text = df['Country'], \n",
    "               z = df['Economy..GDP.per.Capita.'],\n",
    "               )]\n",
    "\n",
    "layout = dict(title = 'GDP in 2017',\n",
    "                  geo = dict(\n",
    "                      showframe = True,\n",
    "                      showocean = True,\n",
    "                      showlakes = True,\n",
    "                      showcoastlines = True,\n",
    "                      projection = dict(\n",
    "                          type = 'hammer'\n",
    "        )))\n",
    "\n",
    "\n",
    "projections = [ \"equirectangular\", \"mercator\", \"orthographic\", \"natural earth\",\"kavrayskiy7\", \n",
    "               \"miller\", \"robinson\", \"eckert4\", \"azimuthal equal area\",\"azimuthal equidistant\", \n",
    "               \"conic equal area\", \"conic conformal\", \"conic equidistant\", \"gnomonic\", \"stereographic\", \n",
    "               \"mollweide\", \"hammer\", \"transverse mercator\", \"albers usa\", \"winkel tripel\" ]\n",
    "\n",
    "buttons = [dict(args = ['geo.projection.type', y],\n",
    "           label = y, method = 'relayout') for y in projections]\n",
    "annot = list([ dict( x=0.1, y=0.8, text='Projection', yanchor='bottom', \n",
    "                    xref='paper', xanchor='right', showarrow=False )])\n",
    "\n",
    "# Update Layout Object\n",
    "\n",
    "layout[ 'updatemenus' ] = list([ dict( x=0.1, y=0.8, buttons=buttons, yanchor='top' )])\n",
    "layout[ 'annotations' ] = annot\n",
    "\n",
    "\n",
    "fig = go.Figure(data = trace1, layout = layout)\n",
    "py.iplot(fig)"
   ]
  },
  {
   "cell_type": "markdown",
   "id": "8645f938",
   "metadata": {},
   "source": [
    "America, Canada, Austrelia, Saudi Arabia, European Countries are the Leaders in the Economy and GDP.\n",
    "\n",
    "Smaller Countries like Norway, Qatar, Luxembourg are having the best GDP rate in the world.\n",
    "\n",
    "Most of the African Countries are having very low GDP rate.\n",
    "\n",
    "India, Pakistan, Myanmar are having very low GDP in the Asian Regions."
   ]
  },
  {
   "cell_type": "markdown",
   "id": "6f72c626",
   "metadata": {},
   "source": [
    "# Top 10 Countries with Best Economy"
   ]
  },
  {
   "cell_type": "code",
   "execution_count": null,
   "id": "769df8c3",
   "metadata": {},
   "outputs": [],
   "source": [
    "df[['Country', 'Economy..GDP.per.Capita.']].sort_values(by = 'Economy..GDP.per.Capita.',\n",
    "            ascending = False).head(10)"
   ]
  },
  {
   "cell_type": "code",
   "execution_count": null,
   "id": "7b8066c4",
   "metadata": {},
   "outputs": [],
   "source": [
    "trace1 = [go.Choropleth(\n",
    "               colorscale = 'Picnic',\n",
    "               locationmode = 'country names',\n",
    "               locations = df['Country'],\n",
    "               text = df['Country'], \n",
    "               z = df['Freedom'],\n",
    "               )]\n",
    "\n",
    "layout = dict(title = 'Freedom Index',\n",
    "                  geo = dict(\n",
    "                      showframe = True,\n",
    "                      showocean = True,\n",
    "                      showlakes = True,\n",
    "                      showcoastlines = True,\n",
    "                      projection = dict(\n",
    "                          type = 'hammer'\n",
    "        )))\n",
    "\n",
    "\n",
    "projections = [ \"equirectangular\", \"mercator\", \"orthographic\", \"natural earth\",\"kavrayskiy7\", \n",
    "               \"miller\", \"robinson\", \"eckert4\", \"azimuthal equal area\",\"azimuthal equidistant\", \n",
    "               \"conic equal area\", \"conic conformal\", \"conic equidistant\", \"gnomonic\", \"stereographic\", \n",
    "               \"mollweide\", \"hammer\", \"transverse mercator\", \"albers usa\", \"winkel tripel\" ]\n",
    "\n",
    "buttons = [dict(args = ['geo.projection.type', y],\n",
    "           label = y, method = 'relayout') for y in projections]\n",
    "annot = list([ dict( x=0.1, y=0.8, text='Projection', yanchor='bottom', \n",
    "                    xref='paper', xanchor='right', showarrow=False )])\n",
    "\n",
    "\n",
    "# Update Layout Object\n",
    "\n",
    "layout[ 'updatemenus' ] = list([ dict( x=0.1, y=0.8, buttons=buttons, yanchor='top' )])\n",
    "layout[ 'annotations' ] = annot\n",
    "\n",
    "\n",
    "fig = go.Figure(data = trace1, layout = layout)\n",
    "py.iplot(fig)"
   ]
  },
  {
   "cell_type": "markdown",
   "id": "0ed23e7b",
   "metadata": {},
   "source": [
    " Looks like Canada, Austrelia and Europe are the best places on Earth to live. They have high scores throughout. In this case also They are the Winners.\n",
    "\n",
    "Europe on Whole has a very high Freedom Index in comparison to other Coutries of the World.\n",
    "\n",
    "African Countries such as Sudan and Angola are having the lowsest Freedom Index in the World."
   ]
  },
  {
   "cell_type": "markdown",
   "id": "5a12a4c2",
   "metadata": {},
   "source": [
    "# Top 10 Most Freedom Oriented Countries"
   ]
  },
  {
   "cell_type": "code",
   "execution_count": null,
   "id": "298f74e9",
   "metadata": {},
   "outputs": [],
   "source": [
    "df[['Country', 'Freedom']].sort_values(by = 'Freedom', ascending = False).head(10)"
   ]
  },
  {
   "cell_type": "code",
   "execution_count": null,
   "id": "2a316a5d",
   "metadata": {},
   "outputs": [],
   "source": [
    "trace1 = [go.Choropleth(\n",
    "               colorscale = 'Electric',\n",
    "               locationmode = 'country names',\n",
    "               locations = df['Country'],\n",
    "               text = df['Country'], \n",
    "               z = df['Happiness Rank'],\n",
    "               )]\n",
    "\n",
    "layout = dict(title = 'Happiness Rank',\n",
    "                  geo = dict(\n",
    "                      showframe = True,\n",
    "                      showocean = True,\n",
    "                      showlakes = True,\n",
    "                      showcoastlines = True,\n",
    "                      projection = dict(\n",
    "                          type = 'hammer'\n",
    "        )))\n",
    "\n",
    "\n",
    "projections = [ \"equirectangular\", \"mercator\", \"orthographic\", \"natural earth\",\"kavrayskiy7\", \n",
    "               \"miller\", \"robinson\", \"eckert4\", \"azimuthal equal area\",\"azimuthal equidistant\", \n",
    "               \"conic equal area\", \"conic conformal\", \"conic equidistant\", \"gnomonic\", \"stereographic\", \n",
    "               \"mollweide\", \"hammer\", \"transverse mercator\", \"albers usa\", \"winkel tripel\" ]\n",
    "\n",
    "buttons = [dict(args = ['geo.projection.type', y],\n",
    "           label = y, method = 'relayout') for y in projections]\n",
    "annot = list([ dict( x=0.1, y=0.8, text='Projection', yanchor='bottom', \n",
    "                    xref='paper', xanchor='right', showarrow=False )])\n",
    "\n",
    "\n",
    "# Update Layout Object\n",
    "\n",
    "layout[ 'updatemenus' ] = list([ dict( x=0.1, y=0.8, buttons=buttons, yanchor='top' )])\n",
    "layout[ 'annotations' ] = annot\n",
    "\n",
    "\n",
    "fig = go.Figure(data = trace1, layout = layout)\n",
    "py.iplot(fig)"
   ]
  },
  {
   "cell_type": "markdown",
   "id": "91f4342a",
   "metadata": {},
   "source": [
    "# Top 10 Happiest Countries"
   ]
  },
  {
   "cell_type": "code",
   "execution_count": null,
   "id": "94ae3982",
   "metadata": {},
   "outputs": [],
   "source": [
    "df[['Country','Happiness.Rank']].head(10)"
   ]
  }
 ],
 "metadata": {
  "kernelspec": {
   "display_name": "Python 3 (ipykernel)",
   "language": "python",
   "name": "python3"
  },
  "language_info": {
   "codemirror_mode": {
    "name": "ipython",
    "version": 3
   },
   "file_extension": ".py",
   "mimetype": "text/x-python",
   "name": "python",
   "nbconvert_exporter": "python",
   "pygments_lexer": "ipython3",
   "version": "3.9.13"
  }
 },
 "nbformat": 4,
 "nbformat_minor": 5
}
