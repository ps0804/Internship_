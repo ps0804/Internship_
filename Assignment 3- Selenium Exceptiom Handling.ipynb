{
 "cells": [
  {
   "cell_type": "markdown",
   "id": "33d92996",
   "metadata": {},
   "source": [
    "#1. Write a python program which searches all the product under a particular product vertical from www.amazon.in. The product verticals to be searched will be taken as input from user. For e.g. If user input is ‘guitar’. Then search for guitars."
   ]
  },
  {
   "cell_type": "code",
   "execution_count": null,
   "id": "5ea57b29",
   "metadata": {},
   "outputs": [],
   "source": [
    "import pandas as pd\n",
    "import re\n",
    "import selenium \n",
    "from selenium import webdriver\n",
    "from time import sleep\n",
    "from selenium.common.exceptions import NoSuchElementException\n",
    "from selenium.webdriver.common.keys import Keys"
   ]
  },
  {
   "cell_type": "code",
   "execution_count": null,
   "id": "acbd71e9",
   "metadata": {},
   "outputs": [],
   "source": [
    "driver= webdriver.Chrome(\"chromedriver.exe\")\n",
    "# Get the webpage\n",
    "url=\"https://www.amazon.in/\" \n",
    "driver.get(url)\n",
    "driver.maximize_window()"
   ]
  },
  {
   "cell_type": "code",
   "execution_count": null,
   "id": "834237f6",
   "metadata": {},
   "outputs": [],
   "source": [
    "search_product=driver.find_element_by_xpath('//input[@type=\"text\"]')\n",
    "search_product.send_keys(\"Watches\")\n",
    "\n",
    "search_btn=driver.find_element_by_xpath('(//input[@type=\"submit\"])[1]')\n",
    "search_btn.click()"
   ]
  },
  {
   "cell_type": "markdown",
   "id": "8b09b7fb",
   "metadata": {},
   "source": [
    "2. In the above question, now scrape the following details of each product listed in first 3 pages of your search results and save it in a data frame and csv. In case if any product vertical has less than 3 pages in search results then scrape all the products available under that product vertical. Details to be scraped are: \"Brand Name\", \"Name of the Product\", \"Rating\", \"No. of Ratings\", \"Price\", \"Return/Exchange\", \"Expected Delivery\", \"Availability\", \"Other Details\" and “Product URL”. In case, if any of the details are missing for any of the product then replace it by “-“."
   ]
  },
  {
   "cell_type": "code",
   "execution_count": null,
   "id": "14ae66f6",
   "metadata": {},
   "outputs": [],
   "source": [
    "Brand_Name=[]\n",
    "Product_Name=[]\n",
    "Price=[]"
   ]
  },
  {
   "cell_type": "code",
   "execution_count": null,
   "id": "8b509ffc",
   "metadata": {},
   "outputs": [],
   "source": [
    "Product_url=[]\n",
    "for i in range(3):\n",
    "    print('Scraping Page',i+1)"
   ]
  },
  {
   "cell_type": "code",
   "execution_count": null,
   "id": "bb5e2dbc",
   "metadata": {},
   "outputs": [],
   "source": [
    "brand=driver.find_elements_by_xpath(\"//h5[@class='s-line-clamp-1']\")\n",
    "    for b in brand:\n",
    "        Brand_Name.append(b.text)"
   ]
  },
  {
   "cell_type": "code",
   "execution_count": null,
   "id": "36349cd7",
   "metadata": {},
   "outputs": [],
   "source": [
    "sleep(1) \n",
    "    \n",
    "    product=driver.find_elements_by_xpath(\"//h2[@class='a-size-mini a-spacing-none a-color-base s-line-clamp-2']\")"
   ]
  },
  {
   "cell_type": "code",
   "execution_count": null,
   "id": "d7eef61d",
   "metadata": {},
   "outputs": [],
   "source": [
    "for p in product:\n",
    "        Product_Name.append(p.text)\n",
    "    sleep(1)"
   ]
  },
  {
   "cell_type": "code",
   "execution_count": null,
   "id": "84ef0a78",
   "metadata": {},
   "outputs": [],
   "source": [
    "price=driver.find_elements_by_xpath(\"//span[@class='a-price-whole']\")"
   ]
  },
  {
   "cell_type": "code",
   "execution_count": null,
   "id": "1c6ab8d2",
   "metadata": {},
   "outputs": [],
   "source": [
    "for pr in price:\n",
    "        Price.append(pr.text)\n",
    "    sleep(1)\n",
    "        "
   ]
  },
  {
   "cell_type": "code",
   "execution_count": null,
   "id": "38e0f15d",
   "metadata": {},
   "outputs": [],
   "source": [
    "product_url=driver.find_elements_by_xpath(\"//h2[@class='a-size-mini a-spacing-none a-color-base s-line-clamp-2']/a\")"
   ]
  },
  {
   "cell_type": "code",
   "execution_count": null,
   "id": "e5ca5460",
   "metadata": {},
   "outputs": [],
   "source": [
    " for p in product:\n",
    "        Product_Name.append(p.text)\n",
    "    sleep(1)"
   ]
  },
  {
   "cell_type": "code",
   "execution_count": null,
   "id": "551442dd",
   "metadata": {},
   "outputs": [],
   "source": [
    "price=driver.find_elements_by_xpath(\"//span[@class='a-price-whole']\")"
   ]
  },
  {
   "cell_type": "code",
   "execution_count": null,
   "id": "d702bd9f",
   "metadata": {},
   "outputs": [],
   "source": [
    " for pr in price:\n",
    "        Price.append(pr.text)\n",
    "    sleep(1)\n",
    "        \n",
    "    product_url=driver.find_elements_by_xpath(\"//h2[@class='a-size-mini a-spacing-none a-color-base s-line-clamp-2']/a\")"
   ]
  },
  {
   "cell_type": "code",
   "execution_count": null,
   "id": "2baa2726",
   "metadata": {},
   "outputs": [],
   "source": [
    "for url in product_url:\n",
    "        Product_url.append(url.get_attribute('href'))\n",
    "    sleep(1)"
   ]
  },
  {
   "cell_type": "code",
   "execution_count": null,
   "id": "33aea538",
   "metadata": {},
   "outputs": [],
   "source": [
    " try:\n",
    "        Next_btn=driver.find_element_by_xpath(\"//li[@class='a-last']\")\n",
    "        Next_btn.click()\n",
    "        \n",
    "    except:\n",
    "        break "
   ]
  },
  {
   "cell_type": "code",
   "execution_count": null,
   "id": "4f3f31dd",
   "metadata": {},
   "outputs": [],
   "source": [
    "for i in range(3):\n",
    "    print('Scraping Page',i+1)\n",
    "    \n",
    "    brand=driver.find_elements_by_xpath(\"//h5[@class='s-line-clamp-1']\")\n",
    "    for b in brand:\n",
    "        Brand_Name.append(b.text)  \n",
    "    sleep(1) \n",
    "    try:\n",
    "        Next_btn=driver.find_element_by_xpath(\"//li[@class='a-last']\")\n",
    "        Next_btn.click()\n",
    "        \n",
    "    except:\n",
    "        break "
   ]
  },
  {
   "cell_type": "code",
   "execution_count": null,
   "id": "c61eee50",
   "metadata": {},
   "outputs": [],
   "source": [
    "Brand=[]\n",
    "Rating=[]\n",
    "No_of_Ratings=[]\n",
    "Return_Exchange=[]\n",
    "Expected_Delivery=[]\n",
    "Availability=[]\n",
    "Other_Details=[]"
   ]
  },
  {
   "cell_type": "code",
   "execution_count": null,
   "id": "d8bc73ee",
   "metadata": {},
   "outputs": [],
   "source": [
    "for i in Product_url:\n",
    "    driver.get(i)\n",
    "    sleep(1)"
   ]
  },
  {
   "cell_type": "code",
   "execution_count": null,
   "id": "81e88ce8",
   "metadata": {},
   "outputs": [],
   "source": [
    " try:\n",
    "        brand1=driver.find_elements_by_xpath(\"//div[@class='a-column a-span6 a-spacing-base a-ws-span6']/table/tbody/tr[6]/td\")\n",
    "        for i in brand1:\n",
    "            Brand.append(i.text)\n",
    "        sleep(1)\n",
    "except:\n",
    "        Brand.append(\"--\")\n",
    "        sleep(1)\n",
    "        "
   ]
  },
  {
   "cell_type": "code",
   "execution_count": null,
   "id": "9ad07a8d",
   "metadata": {},
   "outputs": [],
   "source": [
    "try:\n",
    "        rating=driver.find_elements_by_xpath(\"//span[@class='a-size-medium a-color-base']\")\n",
    "        for r in rating:\n",
    "            Rating.append(r.text)\n",
    "        sleep(1)\n",
    "except:\n",
    "        Rating.append('--')\n",
    "        sleep(1)  "
   ]
  },
  {
   "cell_type": "code",
   "execution_count": null,
   "id": "81d3f5d2",
   "metadata": {},
   "outputs": [],
   "source": [
    " try:\n",
    "        no_of_Ratings=driver.find_elements_by_xpath(\"//div[@class='a-row a-spacing-medium averageStarRatingNumerical']\")\n",
    "        for s in no_of_Ratings:\n",
    "            No_of_Ratings.append(s.text)\n",
    "        sleep(1)\n",
    "except:\n",
    "        No_of_Ratings.append('--')\n",
    "        sleep(1)"
   ]
  },
  {
   "cell_type": "code",
   "execution_count": null,
   "id": "bb6f9dcc",
   "metadata": {},
   "outputs": [],
   "source": [
    "try:\n",
    "        return_Exchange=driver.find_elements_by_xpath(\"//div[@id='icon-farm-container']/div/div[2]\")\n",
    "        for r in return_Exchange:\n",
    "            Return_Exchange.append(r.text)\n",
    "        sleep(1)\n",
    "except:\n",
    "        Return_Exchange.append('--')\n",
    "        sleep(1)"
   ]
  },
  {
   "cell_type": "code",
   "execution_count": null,
   "id": "df7572e4",
   "metadata": {},
   "outputs": [],
   "source": [
    "try:\n",
    "        expected_Delivery=driver.find_elements_by_xpath(\"//div[@id='ddmDeliveryMessage']/b\")\n",
    "        for ed in expected_Delivery:\n",
    "            Expected_Delivery.append(ed.text)\n",
    "        sleep(1)\n",
    "except:\n",
    "        Expected_Delivery.append('--')\n",
    "        sleep(1)"
   ]
  },
  {
   "cell_type": "code",
   "execution_count": null,
   "id": "a4939a7c",
   "metadata": {},
   "outputs": [],
   "source": [
    " try:\n",
    "        availability=driver.find_elements_by_xpath(\"//div[@id='availability']\")\n",
    "        for ed in availability:\n",
    "            availability.append(ed.text)\n",
    "        sleep(1)\n",
    "except:\n",
    "        availability.append('--')\n",
    "        sleep(1)"
   ]
  },
  {
   "cell_type": "code",
   "execution_count": null,
   "id": "c78ce8a2",
   "metadata": {},
   "outputs": [],
   "source": [
    "try:\n",
    "        other_Details=driver.find_elements_by_xpath(\"//div[@class='a-section a-spacing-medium a-spacing-top-small']\")\n",
    "        for od in other_Details:\n",
    "            Other_Details.append(od.text)\n",
    "        sleep(1)\n",
    "except:\n",
    "        Other_Details.append('--')\n",
    "        sleep(1)"
   ]
  },
  {
   "cell_type": "code",
   "execution_count": null,
   "id": "874dc28a",
   "metadata": {},
   "outputs": [],
   "source": [
    "Product_details=pd.DataFrame({})\n",
    "Product_details['Price']=Price[0:170]\n",
    "Product_details['Rating']=Rating[0:170]\n",
    "Product_details['No_of_Ratings']=No_of_Ratings[0:170]\n",
    "Product_details['Return_Exchange']=Return_Exchange[0:170]\n",
    "Product_details['Expected_Delivery']=Expected_Delivery[0:170]\n",
    "Product_details['Product_url']=Product_url[0:170]\n",
    "Product_details['Other_Details']=Other_Details[0:170]\n",
    "Product_details "
   ]
  },
  {
   "cell_type": "markdown",
   "id": "50ce39cd",
   "metadata": {},
   "source": [
    "3. Write a python program to access the search bar and search button on images.google.com and scrape 100 images each for keywords ‘fruits’, ‘cars’ and ‘Machine Learning’."
   ]
  },
  {
   "cell_type": "code",
   "execution_count": null,
   "id": "c53a6b32",
   "metadata": {},
   "outputs": [],
   "source": [
    "driver= webdriver.Chrome(\"chromedriver.exe\")\n",
    "# Get the webpage\n",
    "url='https://images.google.com/'"
   ]
  },
  {
   "cell_type": "code",
   "execution_count": null,
   "id": "6fe6a989",
   "metadata": {},
   "outputs": [],
   "source": [
    "Fruit_image=[]\n",
    "Cars_image=[]\n",
    "ML_image=[]\n",
    "Keywords =['Fruits','Cars','Machine Learning']"
   ]
  },
  {
   "cell_type": "code",
   "execution_count": null,
   "id": "4bbe5a42",
   "metadata": {},
   "outputs": [],
   "source": [
    "for i in Keywords:\n",
    "    driver.get(url)\n",
    "    driver.maximize_window()\n",
    "    driver.execute_script(\"window.scrollBy(0,4000)\",\"\")\n",
    "    sleep(5)\n",
    "    search_image=driver.find_element_by_xpath('//input[@type=\"text\"]')\n",
    "    search_btn=driver.find_element_by_xpath('//button[@class=\"Tg7LZd\"]')\n",
    "    \n",
    "    search_image.send_keys(i)\n",
    "    search_btn.click()\n",
    "    sleep(4)\n",
    "    fruit_image=driver.find_elements_by_xpath(\"//div[@class='bRMDJf islir']/img\")"
   ]
  },
  {
   "cell_type": "code",
   "execution_count": null,
   "id": "9b314d2b",
   "metadata": {},
   "outputs": [],
   "source": [
    " for i in fruit_image:\n",
    "        Fruit_image.append(i.get_attribute('src'))\n",
    "    sleep(2)"
   ]
  },
  {
   "cell_type": "code",
   "execution_count": null,
   "id": "28ea19d3",
   "metadata": {},
   "outputs": [],
   "source": [
    "car_image=driver.find_elements_by_xpath(\"//div[@class='bRMDJf islir']/img\")\n",
    "    for i in fruit_image:\n",
    "        Cars_image.append(i.get_attribute('src'))\n",
    "    sleep(2)"
   ]
  },
  {
   "cell_type": "code",
   "execution_count": null,
   "id": "0ac318b5",
   "metadata": {},
   "outputs": [],
   "source": [
    "ml_image=driver.find_elements_by_xpath(\"//div[@class='bRMDJf islir']/img\")\n",
    "    for i in fruit_image:\n",
    "        ML_image.append(i.get_attribute('src'))\n",
    "    sleep(2)"
   ]
  },
  {
   "cell_type": "code",
   "execution_count": null,
   "id": "cc7bec10",
   "metadata": {},
   "outputs": [],
   "source": [
    "Image_data=pd.DataFrame({})\n",
    "Image_data[\"Fruit_image\"]= Fruit_image[0:100]\n",
    "Image_data[\"Cars_image\"]= Cars_image[0:100]\n",
    "Image_data[\"ML_image\"]= ML_image[0:100]\n",
    "Image_data"
   ]
  },
  {
   "cell_type": "markdown",
   "id": "22e81722",
   "metadata": {},
   "source": [
    "4. Write a python program to search for a smartphone(e.g.: Oneplus Nord, pixel 4A, etc.) on www.flipkart.com and scrape following details for all the search results displayed on 1st page. Details to be scraped: “Brand Name”, “Smartphone name”, “Colour”, “RAM”, “Storage(ROM)”, “Primary Camera”, “Secondary Camera”, “Display Size”, “Display Resolution”, “Processor”, “Processor Cores”, “Battery Capacity”, “Price”, “Product URL”. Incase if any of the details is missing then replace it by “- “. Save your results in a dataframe and CSV."
   ]
  },
  {
   "cell_type": "code",
   "execution_count": null,
   "id": "48b4be05",
   "metadata": {},
   "outputs": [],
   "source": [
    "url = 'https://www.flipkart.com/'\n",
    "driver = webdriver.Chrome('chromedriver.exe')\n",
    "driver.get(url)\n",
    "driver.maximize_window()\n",
    "sleep(2)"
   ]
  },
  {
   "cell_type": "code",
   "execution_count": null,
   "id": "f3f89ae9",
   "metadata": {},
   "outputs": [],
   "source": [
    "search_product = driver.find_element_by_xpath('//input[@class=\"_3704LK\"]')\n",
    "search_btn= driver.find_element_by_xpath('//button[@class =\"L0Z3Pu\"]')"
   ]
  },
  {
   "cell_type": "code",
   "execution_count": null,
   "id": "f8259503",
   "metadata": {},
   "outputs": [],
   "source": [
    "search_product.send_keys('Oneplus Nord, pixel 4A')\n",
    "search_btn.click()"
   ]
  },
  {
   "cell_type": "code",
   "execution_count": null,
   "id": "1e2205c5",
   "metadata": {},
   "outputs": [],
   "source": [
    "Url=[]\n",
    "url = driver.find_elements_by_xpath('//a[@class =\"_1fQZEK\"]')\n",
    "for i in url:\n",
    "    Url.append(i.get_attribute('href'))"
   ]
  },
  {
   "cell_type": "code",
   "execution_count": null,
   "id": "5ec3684f",
   "metadata": {},
   "outputs": [],
   "source": [
    "Brand_name =[]\n",
    "Price=[]\n",
    "Colour=[]\n",
    "Display_size=[]\n",
    "Display_resolution=[]\n",
    "Primary_Camera=[]\n",
    "Secondary_camera=[]\n",
    "RAM=[]\n",
    "ROM= []\n",
    "Battery_capacity =[]\n",
    "Processor =[]\n",
    "Processor_core =[]"
   ]
  },
  {
   "cell_type": "code",
   "execution_count": null,
   "id": "b6b4c130",
   "metadata": {},
   "outputs": [],
   "source": [
    "for i in Url:\n",
    "    driver.get(i)\n",
    "    sleep(2)\n",
    "    \n",
    "    readmore =driver.find_element_by_xpath('//button[@class =\"_2KpZ6l _1FH0tX\"]')\n",
    "    readmore.click()\n",
    "    sleep(2)"
   ]
  },
  {
   "cell_type": "code",
   "execution_count": null,
   "id": "fffa80cc",
   "metadata": {},
   "outputs": [],
   "source": [
    "try:\n",
    "        brand = driver.find_element_by_xpath('//span[@class=\"B_NuCI\"]')\n",
    "        Brand_name.append(brand.text)\n",
    "except:\n",
    "        Brand_name.append('--') \n",
    "    \n",
    "    \n",
    "try:\n",
    "    price = driver.find_element_by_xpath('//div[@class=\"_30jeq3 _16Jk6d\"]')\n",
    "    Price.append(price.text)\n",
    "        \n",
    "except:\n",
    "        Price.append('--')\n",
    "        \n",
    "try:\n",
    "    color = driver.find_element_by_xpath('//div [@class =\"_3k-BhJ\"][1]/table/tbody/tr[4]/td[2]/ul/li')\n",
    "    Colour.append(color.text)\n",
    "        \n",
    "except:\n",
    "        Colour.append('--')\n",
    "        \n",
    "try:\n",
    "     dsize = driver.find_element_by_xpath('//div [@class =\"_3k-BhJ\"][2]/table/tbody/tr[1]/td[2]/ul/li')\n",
    "    Display_size.append(dsize.text)\n",
    "        \n",
    "except:\n",
    "        Display_size.append('--')"
   ]
  },
  {
   "cell_type": "code",
   "execution_count": null,
   "id": "801e4774",
   "metadata": {},
   "outputs": [],
   "source": [
    "try:\n",
    "        resolution = driver.find_element_by_xpath('//div [@class =\"_3k-BhJ\"][2]/table/tbody/tr[2]/td[2]/ul/li')\n",
    "        Display_resolution.append(resolution.text)\n",
    "        \n",
    "except:\n",
    "        Display_resolution.append('--')\n",
    "        \n",
    "        \n",
    "try:\n",
    "    pcamera = driver.find_element_by_xpath('//div [@class =\"_3k-BhJ\"][5]/table/tbody/tr[2]/td[2]/ul/li')\n",
    "    Primary_Camera.append(pcamera.text)\n",
    "        \n",
    "except:\n",
    "        Primary_Camera.append('--')"
   ]
  },
  {
   "cell_type": "code",
   "execution_count": null,
   "id": "ffb1ffb2",
   "metadata": {},
   "outputs": [],
   "source": [
    " try:\n",
    "        scamera = driver.find_element_by_xpath('//div [@class =\"_3k-BhJ\"][5]/table/tbody/tr[5]/td[2]/ul/li')\n",
    "        Secondary_camera.append(scamera.text)\n",
    "        \n",
    "except:\n",
    "        Secondary_camera.append('--')\n",
    "        \n",
    "        \n",
    "try:\n",
    "        ram = driver.find_element_by_xpath('//div [@class =\"_3k-BhJ\"][4]/table/tbody/tr[2]/td[2]/ul/li')\n",
    "        RAM.append(ram.text)\n",
    "        \n",
    "except:\n",
    "        RAM.append('--')\n",
    "        \n",
    "        \n",
    "        \n",
    "try:\n",
    "        rom = driver.find_element_by_xpath('//div [@class =\"_3k-BhJ\"][4]/table/tbody/tr[1]/td[2]/ul/li')\n",
    "        ROM.append(rom.text)\n",
    "        \n",
    "except:\n",
    "        ROM.append('--')"
   ]
  },
  {
   "cell_type": "code",
   "execution_count": null,
   "id": "b2de9785",
   "metadata": {},
   "outputs": [],
   "source": [
    "try:\n",
    "        battery = driver.find_element_by_xpath('//div [@class =\"_3k-BhJ\"][10]/table/tbody/tr[1]/td[2]/ul/li')\n",
    "        Battery_capacity.append(battery.text)\n",
    "        \n",
    "except:\n",
    "        Battery_capacity.append('--')\n",
    "        \n",
    "        \n",
    "try:\n",
    "        processor = driver.find_element_by_xpath('//div [@class =\"_3k-BhJ\"][3]/table/tbody/tr[2]/td[2]/ul/li')\n",
    "        Processor.append(processor.text)\n",
    "        \n",
    "except:\n",
    "        Processor.append('--')\n",
    "        \n",
    "        \n",
    "        \n",
    "try:\n",
    "        core = driver.find_element_by_xpath('//div [@class =\"_3k-BhJ\"][3]/table/tbody/tr[3]/td[2]/ul/li')\n",
    "        Processor_core.append(core.text)\n",
    "        \n",
    "except:\n",
    "        Processor_core.append('--')"
   ]
  },
  {
   "cell_type": "code",
   "execution_count": null,
   "id": "f8489390",
   "metadata": {},
   "outputs": [],
   "source": [
    "Smartphone_data = pd.DataFrame({})\n",
    "\n",
    "Smartphone_data['Brand_name / Mobile name'] =Brand_name\n",
    "Smartphone_data['Price'] =Price\n",
    "Smartphone_data['Colour'] =Colour\n",
    "Smartphone_data['Display_size'] =Display_size\n",
    "Smartphone_data['Display_resolution'] =Display_resolution\n",
    "Smartphone_data['Primary_Camera'] =Primary_Camera\n",
    "Smartphone_data['Secondary_camera'] =Secondary_camera\n",
    "Smartphone_data['RAM'] =RAM\n",
    "Smartphone_data['ROM'] =ROM\n",
    "Smartphone_data['Battery_capacity'] =Battery_capacity \n",
    "Smartphone_data['Processor'] =Processor \n",
    "Smartphone_data['Processor_core'] =Processor_core \n",
    "Smartphone_data['Product URL'] = Url\n",
    "\n",
    "Smartphone_data "
   ]
  },
  {
   "cell_type": "markdown",
   "id": "81b7a40a",
   "metadata": {},
   "source": [
    "5. Write a program to scrap geospatial coordinates (latitude, longitude) of a city searched on google maps."
   ]
  },
  {
   "cell_type": "code",
   "execution_count": null,
   "id": "8312282e",
   "metadata": {},
   "outputs": [],
   "source": [
    "driver= webdriver.Chrome(\"chromedriver.exe\")\n",
    "# Get the webpage\n",
    "url=\"https://www.google.co.in/maps/\"\n",
    "driver.get(url)\n",
    "driver.maximize_window()"
   ]
  },
  {
   "cell_type": "code",
   "execution_count": null,
   "id": "2cbc268a",
   "metadata": {},
   "outputs": [],
   "source": [
    "search_city=driver.find_element_by_xpath(\"//input[@id='searchboxinput']\")\n",
    "search_city.send_keys('Panipat Haryana')"
   ]
  },
  {
   "cell_type": "code",
   "execution_count": null,
   "id": "0648fd3e",
   "metadata": {},
   "outputs": [],
   "source": [
    "search_btn= driver.find_element_by_xpath(\"//button[@id='searchbox-searchbutton']\")\n",
    "search_btn.click()"
   ]
  },
  {
   "cell_type": "code",
   "execution_count": null,
   "id": "5ac31b18",
   "metadata": {},
   "outputs": [],
   "source": [
    "coordinate=driver.find_element_by_xpath(\"//div[@class='gb_1f gb_h']/div/a\")"
   ]
  },
  {
   "cell_type": "code",
   "execution_count": null,
   "id": "a39437de",
   "metadata": {},
   "outputs": [],
   "source": [
    "x=coordinate.get_attribute('href')"
   ]
  },
  {
   "cell_type": "code",
   "execution_count": null,
   "id": "62aa550f",
   "metadata": {},
   "outputs": [],
   "source": [
    "cordinates= re.findall('\\d\\d\\.\\d+', x)"
   ]
  },
  {
   "cell_type": "code",
   "execution_count": null,
   "id": "54762b24",
   "metadata": {},
   "outputs": [],
   "source": [
    "cordinates"
   ]
  },
  {
   "cell_type": "code",
   "execution_count": null,
   "id": "4e233c39",
   "metadata": {},
   "outputs": [],
   "source": [
    "Longitutde =cordinates[0:4:2]"
   ]
  },
  {
   "cell_type": "code",
   "execution_count": null,
   "id": "8c6bff6c",
   "metadata": {},
   "outputs": [],
   "source": [
    "Longitutde"
   ]
  },
  {
   "cell_type": "code",
   "execution_count": null,
   "id": "7639f5f1",
   "metadata": {},
   "outputs": [],
   "source": [
    "latitude=cordinates[1:4:2]"
   ]
  },
  {
   "cell_type": "code",
   "execution_count": null,
   "id": "10ed9af5",
   "metadata": {},
   "outputs": [],
   "source": [
    "latitude"
   ]
  },
  {
   "cell_type": "code",
   "execution_count": null,
   "id": "3445d0f2",
   "metadata": {},
   "outputs": [],
   "source": [
    "maps=pd.DataFrame({})\n",
    "maps['Longitutde']=Longitutde\n",
    "maps['latitude']=latitude\n",
    "maps"
   ]
  },
  {
   "cell_type": "markdown",
   "id": "49e293c3",
   "metadata": {},
   "source": [
    "6. Write a program to scrap all the available details of best gaming laptops from digit.in."
   ]
  },
  {
   "cell_type": "code",
   "execution_count": null,
   "id": "a881367e",
   "metadata": {},
   "outputs": [],
   "source": [
    "driver= webdriver.Chrome(\"chromedriver.exe\")\n",
    "# Get the webpage\n",
    "url=\"https://www.digit.in/\"\n",
    "driver.get(url)\n",
    "driver.maximize_window()"
   ]
  },
  {
   "cell_type": "code",
   "execution_count": null,
   "id": "5cd1e887",
   "metadata": {},
   "outputs": [],
   "source": [
    "Laptop_btn=driver.find_element_by_xpath(\"/html/body/div[1]/div/div[4]/ul/li[3]/a\")\n",
    "Laptop_btn.click()"
   ]
  },
  {
   "cell_type": "code",
   "execution_count": null,
   "id": "6a800fc2",
   "metadata": {},
   "outputs": [],
   "source": [
    "Latest_btn=driver.find_element_by_xpath(\"/html/body/div[6]/div/div[2]/div[2]/ul/li[10]/a\")\n",
    "Latest_btn.click()"
   ]
  },
  {
   "cell_type": "code",
   "execution_count": null,
   "id": "629e65ad",
   "metadata": {},
   "outputs": [],
   "source": [
    "Product_name=[]\n",
    "OS=[] \n",
    "Display=[]\n",
    "Processor=[]\n",
    "Memory=[]\n",
    "Weight=[]\n",
    "Dimension=[]\n",
    "Graphics_Processor=[]"
   ]
  },
  {
   "cell_type": "code",
   "execution_count": null,
   "id": "7e0f1c8a",
   "metadata": {},
   "outputs": [],
   "source": [
    "product_name= driver.find_elements_by_xpath(\"//div[@data-cat='Top_Ten_En_Scroll']/a/h3\")\n",
    "for p in product_name:\n",
    "    Product_name.append(p.text)\n",
    "    \n",
    "Os=driver.find_elements_by_xpath(\"//div[@class='Spcs-details']/table/tbody/tr[3]/td[3]\")\n",
    "for o in Os:\n",
    "    OS.append(o.text)\n",
    "\n",
    "display=driver.find_elements_by_xpath(\"//div[@class='Spcs-details']/table/tbody/tr[4]/td[3]\")\n",
    "for d in display:\n",
    "    Display.append(d.text)\n",
    "\n",
    "processor=driver.find_elements_by_xpath(\"//div[@class='Spcs-details']/table/tbody/tr[5]/td[3]\")\n",
    "for pr in processor:\n",
    "    Processor.append(pr.text)\n",
    "    \n",
    "memory =driver.find_elements_by_xpath(\"//div[@class='Spcs-details']/table/tbody/tr[6]/td[3]\")\n",
    "for m in memory:\n",
    "    Memory.append(m.text)\n",
    "    \n",
    "weight =driver.find_elements_by_xpath(\"//div[@class='Spcs-details']/table/tbody/tr[7]/td[3]\")\n",
    "for w in weight:\n",
    "    Weight.append(w.text)\n",
    "    \n",
    "dimension =driver.find_elements_by_xpath(\"//div[@class='Spcs-details']/table/tbody/tr[8]/td[3]\")\n",
    "for d in dimension:\n",
    "    Dimension.append(d.text)\n",
    "\n",
    "graphics_Processor=driver.find_elements_by_xpath(\"//div[@class='Spcs-details']/table/tbody/tr[9]/td[3]\")\n",
    "for g in graphics_Processor:\n",
    "    Graphics_Processor.append(g.text)"
   ]
  },
  {
   "cell_type": "code",
   "execution_count": null,
   "id": "487b97e5",
   "metadata": {},
   "outputs": [],
   "source": [
    "Price=[]\n",
    "price=driver.find_elements_by_xpath(\"//table[@id='summtable']\")\n",
    "for i in price:\n",
    "    Price.append(i.text)"
   ]
  },
  {
   "cell_type": "code",
   "execution_count": null,
   "id": "8e4e795f",
   "metadata": {},
   "outputs": [],
   "source": [
    "Laptops=pd.DataFrame({})\n",
    "Laptops['Product_name']=Product_name\n",
    "Laptops['OS']=OS\n",
    "Laptops['Display']=Display\n",
    "Laptops['Memory']=Memory\n",
    "Laptops['Weight']=Weight\n",
    "Laptops['Dimension']=Dimension\n",
    "Laptops['Graphics_Processor']=Graphics_Processor\n",
    "Laptops"
   ]
  },
  {
   "cell_type": "markdown",
   "id": "eb65e35e",
   "metadata": {},
   "source": [
    "7. Write a python program to scrape the details for all billionaires from www.forbes.com. Details to be scrapped: “Rank”, “Name”, “Net worth”, “Age”, “Citizenship”, “Source”, “Industry”."
   ]
  },
  {
   "cell_type": "code",
   "execution_count": null,
   "id": "1ecd2c09",
   "metadata": {},
   "outputs": [],
   "source": [
    "driver= webdriver.Chrome(\"chromedriver.exe\")\n",
    "# Get the webpage\n",
    "url='https://www.forbes.com/billionaires/'\n",
    "driver.get(url)\n",
    "driver.maximize_window()"
   ]
  },
  {
   "cell_type": "code",
   "execution_count": null,
   "id": "ea2988f0",
   "metadata": {},
   "outputs": [],
   "source": [
    "Rank=[]\n",
    "Name=[]\n",
    "Net_worth=[]\n",
    "Age=[]\n",
    "Citizenship=[]\n",
    "Source=[]\n",
    "Industry =[]"
   ]
  },
  {
   "cell_type": "code",
   "execution_count": null,
   "id": "cb0a78ab",
   "metadata": {},
   "outputs": [],
   "source": [
    "for i in range(14):\n",
    "    print('Scraping Page',i+1)\n",
    "    \n",
    "    rank=driver.find_elements_by_xpath(\"//div[@class='rank']\")\n",
    "    for r in rank:\n",
    "        Rank.append(r.text)  \n",
    "    sleep(1) \n",
    "    \n",
    "    name=driver.find_elements_by_xpath(\"//div[@class='personName']\")\n",
    "    for n in name:\n",
    "        Name.append(n.text)\n",
    "    sleep(1)\n",
    "    \n",
    "    net_worth=driver.find_elements_by_xpath(\"//div[@class='netWorth']\")\n",
    "    for nw in net_worth:\n",
    "        Net_worth.append(nw.text)\n",
    "    sleep(1)\n",
    "    \n",
    "    age=driver.find_elements_by_xpath(\"//div[@class='age']\")\n",
    "    for a in age:\n",
    "        Age.append(a.text)\n",
    "    sleep(1)\n",
    "        \n",
    "    citizenship=driver.find_elements_by_xpath(\"//div[@class='countryOfCitizenship']\")\n",
    "    for c in citizenship:\n",
    "        Citizenship.append(c.text)\n",
    "    sleep(1)\n",
    "    source=driver.find_elements_by_xpath(\"//div[@class='source-column']\")\n",
    "    for s in source:\n",
    "        Source.append(s.text)\n",
    "    sleep(1)\n",
    "        \n",
    "    industry=driver.find_elements_by_xpath(\"//div[@class='category']\")\n",
    "    for i in industry:\n",
    "        Industry.append(i.text)\n",
    "    sleep(1)\n",
    "    try:\n",
    "        Next_btn=driver.find_element_by_xpath(\"//div[@class='next-page']\")\n",
    "        Next_btn.click()\n",
    "        sleep(2)\n",
    "    except:\n",
    "        break   "
   ]
  },
  {
   "cell_type": "code",
   "execution_count": null,
   "id": "842d1ab0",
   "metadata": {},
   "outputs": [],
   "source": [
    "Billionaires=pd.DataFrame({})\n",
    "Billionaires['Rank']=Rank\n",
    "Billionaires['Name']= Name\n",
    "Billionaires['Net_worth']=Net_worth\n",
    "Billionaires['Age']=Age\n",
    "Billionaires['Citizenship']=Citizenship\n",
    "Billionaires['Source']=Source\n",
    "Billionaires['Industry']=Industry\n",
    "Billionaires"
   ]
  },
  {
   "cell_type": "markdown",
   "id": "6e665342",
   "metadata": {},
   "source": [
    "8. Write a program to extract at least 500 Comments, Comment upvote and time when comment was posted from any YouTube Video."
   ]
  },
  {
   "cell_type": "code",
   "execution_count": null,
   "id": "ca81a52a",
   "metadata": {},
   "outputs": [],
   "source": [
    "driver= webdriver.Chrome(\"chromedriver.exe\")\n",
    "url=\"https://www.youtube.com/watch?v=daSI0e-ODIE&list=RDdaSI0e-ODIE&start_radio=1\"\n",
    "driver.get(url)\n",
    "driver.maximize_window()\n",
    "sleep(4)"
   ]
  },
  {
   "cell_type": "code",
   "execution_count": null,
   "id": "f1a037c8",
   "metadata": {},
   "outputs": [],
   "source": [
    "driver.execute_script(\"window.scrollBy(0,8000)\",\"\")\n",
    "sleep(5)"
   ]
  },
  {
   "cell_type": "code",
   "execution_count": null,
   "id": "1d2cbeec",
   "metadata": {},
   "outputs": [],
   "source": [
    "commnets= driver.find_elements_by_xpath(\"//yt-formatted-string[@id='content-text']\") "
   ]
  },
  {
   "cell_type": "code",
   "execution_count": null,
   "id": "99355736",
   "metadata": {},
   "outputs": [],
   "source": [
    "Commnets=[]\n",
    "for i in commnets:\n",
    "    Commnets.append(i.text)"
   ]
  },
  {
   "cell_type": "code",
   "execution_count": null,
   "id": "382b5da6",
   "metadata": {},
   "outputs": [],
   "source": [
    "len(Commnets)"
   ]
  },
  {
   "cell_type": "markdown",
   "id": "ce783884",
   "metadata": {},
   "source": [
    "9.  Write a python program to scrape a data for all available Hostels from https://www.hostelworld.com/ in “London” location. You have to scrape hostel name, distance from city centre, ratings, total reviews, overall reviews, privates from price, dorms from price, facilities and property description."
   ]
  },
  {
   "cell_type": "code",
   "execution_count": null,
   "id": "6cfbde78",
   "metadata": {},
   "outputs": [],
   "source": [
    "driver=webdriver.Chrome(\"chromedriver.exe\")\n",
    "url=\"https://www.hostelworld.com/\"\n",
    "driver.get(url)\n",
    "driver.maximize_window()"
   ]
  },
  {
   "cell_type": "code",
   "execution_count": null,
   "id": "3bef8820",
   "metadata": {},
   "outputs": [],
   "source": [
    "search_hotel=driver.find_element_by_xpath(\"//input[@id='location-text-input-field']\")\n",
    "search_hotel.click()\n",
    "sleep(2)"
   ]
  },
  {
   "cell_type": "code",
   "execution_count": null,
   "id": "b8e45c42",
   "metadata": {},
   "outputs": [],
   "source": [
    "search_hotel1=driver.find_element_by_xpath(\"//input[@id='search-input-field']\")\n",
    "search_hotel1.send_keys('London')\n",
    "sleep(2)"
   ]
  },
  {
   "cell_type": "code",
   "execution_count": null,
   "id": "23881813",
   "metadata": {},
   "outputs": [],
   "source": [
    "search_btn1=driver.find_element_by_xpath(\"//div[@class='label']\")\n",
    "search_btn1.click()\n",
    "sleep(2)"
   ]
  },
  {
   "cell_type": "code",
   "execution_count": null,
   "id": "57bc937d",
   "metadata": {},
   "outputs": [],
   "source": [
    "search_btn=driver.find_element_by_xpath(\"//button[@id='search-button']\")\n",
    "search_btn.click()\n",
    "sleep(2)"
   ]
  },
  {
   "cell_type": "code",
   "execution_count": null,
   "id": "6b2c3571",
   "metadata": {},
   "outputs": [],
   "source": [
    "Hotel_Name=[]\n",
    "Dist_from_city=[]\n",
    "Total_reviews=[]\n",
    "Overall_reviews=[]\n",
    "Facility=[]\n",
    "Page_url=[]"
   ]
  },
  {
   "cell_type": "code",
   "execution_count": null,
   "id": "d2d77801",
   "metadata": {},
   "outputs": [],
   "source": [
    "for i in range(3):\n",
    "    print('Scraping Page',i+1)\n",
    "    \n",
    "    hotel_name=driver.find_elements_by_xpath(\"//h2[@class='title title-6']\")\n",
    "    for h in hotel_name:\n",
    "        Hotel_Name.append(h.text)\n",
    "        \n",
    "    page_url=driver.find_elements_by_xpath(\"//h2[@class='title title-6']/a\")\n",
    "    for r in page_url:\n",
    "        Page_url.append(r.get_attribute('href'))\n",
    "    \n",
    "    dist_from_city=driver.find_elements_by_xpath(\"//span[@class='description']\")\n",
    "    for dist in dist_from_city:\n",
    "        Dist_from_city.append(dist.text)\n",
    "    \n",
    "    total_reviews=driver.find_elements_by_xpath(\"//div[@class='reviews']\")\n",
    "    for t in total_reviews:\n",
    "        Total_reviews.append(t.text.replace('Total Reviews','').strip())\n",
    "        \n",
    "    overall_reviews=driver.find_elements_by_xpath(\"//div[@class='keyword']\")\n",
    "    for t in overall_reviews:\n",
    "        Overall_reviews.append(t.text)\n",
    "        \n",
    "  \n",
    "    facility=driver.find_elements_by_xpath(\"//div[@class='facilities-label facilities']\")\n",
    "    for t in facility:\n",
    "        Facility.append(t.text.replace('\\n','--'))\n",
    "    try:\n",
    "        Next_btn=driver.find_element_by_xpath(\"//div[@class='pagination-item pagination-next']\")\n",
    "        Next_btn.click() \n",
    "        sleep(2)\n",
    "    except:\n",
    "        break "
   ]
  },
  {
   "cell_type": "code",
   "execution_count": null,
   "id": "0f32f99d",
   "metadata": {},
   "outputs": [],
   "source": [
    "Ratings=[]\n",
    "Property_desc=[]\n",
    "for i in Page_url:\n",
    "    driver.get(i)\n",
    "    sleep(2)\n",
    "    try:\n",
    "        property_desc=driver.find_element_by_xpath(\"//div[@class='content collapse-content']\")\n",
    "        Property_desc.append(property_desc.text)\n",
    "    except:\n",
    "        Property_desc.append('--')\n",
    "    \n",
    "    try:\n",
    "        rating=driver.find_element_by_xpath(\"//div[@class='score orange big' or @class='score gray big']\")\n",
    "        Ratings.append(rating.text)\n",
    "    except:\n",
    "        Ratings.append('--')"
   ]
  },
  {
   "cell_type": "code",
   "execution_count": null,
   "id": "a96b79e4",
   "metadata": {},
   "outputs": [],
   "source": [
    "Hotel_detail=pd.DataFrame({})\n",
    "Hotel_detail['Hotel_Name']= Hotel_Name\n",
    "Hotel_detail['Dist_from_city']=Dist_from_city\n",
    "Hotel_detail['Total_reviews']=Total_reviews\n",
    "Hotel_detail['Overall_reviews']=Overall_reviews[3:]\n",
    "Hotel_detail['Facility']=Facility\n",
    "\n",
    "Hotel_detail"
   ]
  }
 ],
 "metadata": {
  "kernelspec": {
   "display_name": "Python 3 (ipykernel)",
   "language": "python",
   "name": "python3"
  },
  "language_info": {
   "codemirror_mode": {
    "name": "ipython",
    "version": 3
   },
   "file_extension": ".py",
   "mimetype": "text/x-python",
   "name": "python",
   "nbconvert_exporter": "python",
   "pygments_lexer": "ipython3",
   "version": "3.9.13"
  }
 },
 "nbformat": 4,
 "nbformat_minor": 5
}
